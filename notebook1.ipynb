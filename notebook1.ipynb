{
  "nbformat": 4,
  "nbformat_minor": 0,
  "metadata": {
    "colab": {
      "provenance": [],
      "authorship_tag": "ABX9TyOTcgizP/efUtX9JwFZzy6Y"
    },
    "kernelspec": {
      "name": "python3",
      "display_name": "Python 3"
    },
    "language_info": {
      "name": "python"
    }
  },
  "cells": [
    {
      "cell_type": "code",
      "execution_count": 1,
      "metadata": {
        "colab": {
          "base_uri": "https://localhost:8080/"
        },
        "id": "cYl-OFGv_SD9",
        "outputId": "5d7bf2c9-2e73-45a3-e3e5-0c77a3d8049f"
      },
      "outputs": [
        {
          "output_type": "stream",
          "name": "stdout",
          "text": [
            "8\n"
          ]
        }
      ],
      "source": [
        "print(4 + 4)"
      ]
    },
    {
      "cell_type": "markdown",
      "source": [
        "This is a text chunk"
      ],
      "metadata": {
        "id": "HgwM7zch_djI"
      }
    },
    {
      "cell_type": "code",
      "source": [],
      "metadata": {
        "id": "M1bkice7_Vhf"
      },
      "execution_count": null,
      "outputs": []
    }
  ]
}